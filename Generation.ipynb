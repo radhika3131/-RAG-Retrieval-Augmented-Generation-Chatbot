{
 "cells": [
  {
   "cell_type": "code",
   "execution_count": 1,
   "id": "6f10816c-8142-416f-b318-b42d5c9adace",
   "metadata": {},
   "outputs": [
    {
     "name": "stdout",
     "output_type": "stream",
     "text": [
      " FAISS index and text chunks loaded successfully.\n"
     ]
    }
   ],
   "source": [
    "import faiss\n",
    "import pickle\n",
    "\n",
    "# Load FAISS index\n",
    "index = faiss.read_index(\"faiss_index.idx\")\n",
    "\n",
    "# Load text chunks\n",
    "with open(\"retrieved_text_chunks.pkl\", \"rb\") as file:\n",
    "    text_chunks = pickle.load(file)\n",
    "\n",
    "print(\" FAISS index and text chunks loaded successfully.\")\n"
   ]
  },
  {
   "cell_type": "markdown",
   "id": "787724db-d686-42f6-9bbb-55697d5370e3",
   "metadata": {},
   "source": [
    "### Load Embedding Model\n",
    "To convert queries into embeddings, we reload our sentence-transformers model."
   ]
  },
  {
   "cell_type": "code",
   "execution_count": 2,
   "id": "95b5f1c6-3350-40bc-86b4-e7fc53b5c88c",
   "metadata": {},
   "outputs": [
    {
     "name": "stderr",
     "output_type": "stream",
     "text": [
      "E:\\RAG_Chatbot\\rag_env\\lib\\site-packages\\tqdm\\auto.py:21: TqdmWarning: IProgress not found. Please update jupyter and ipywidgets. See https://ipywidgets.readthedocs.io/en/stable/user_install.html\n",
      "  from .autonotebook import tqdm as notebook_tqdm\n"
     ]
    }
   ],
   "source": [
    "from sentence_transformers import SentenceTransformer\n",
    "\n",
    "# Load embedding model\n",
    "embedder = SentenceTransformer(\"all-MiniLM-L6-v2\")\n"
   ]
  },
  {
   "cell_type": "markdown",
   "id": "62f9dea4-d932-45e0-a589-471c0e5bb648",
   "metadata": {},
   "source": [
    "### Retrieve Relevant Chunks\n",
    "Since we already implemented retrieval in the FAISS notebook, we will reuse it."
   ]
  },
  {
   "cell_type": "code",
   "execution_count": 3,
   "id": "bf873475-ed7a-427b-a968-1f140dc7ec54",
   "metadata": {},
   "outputs": [],
   "source": [
    "def retrieve_top_k(query, k=3):\n",
    "    \"\"\"Retrieve top-k relevant text chunks based on query\"\"\"\n",
    "    \n",
    "    # Convert query to embedding\n",
    "    query_embedding = embedder.encode([query])\n",
    "    \n",
    "    # Search FAISS index\n",
    "    distances, indices = index.search(query_embedding, k)\n",
    "    \n",
    "    # Retrieve text chunks\n",
    "    retrieved_texts = [text_chunks[i] for i in indices[0]]\n",
    "    \n",
    "    return retrieved_texts\n"
   ]
  },
  {
   "cell_type": "markdown",
   "id": "01d20b10-e112-4b44-aa11-155665fe8229",
   "metadata": {},
   "source": [
    "### Generate an Answer\n",
    "We will now pass the retrieved text to an LLM. \n",
    "\n",
    "Using a Local LLM (Hugging Face)"
   ]
  },
  {
   "cell_type": "code",
   "execution_count": 5,
   "id": "26c09c26-903f-4b30-888a-43cfd048cd1f",
   "metadata": {},
   "outputs": [
    {
     "name": "stderr",
     "output_type": "stream",
     "text": [
      "Device set to use cpu\n",
      "Setting `pad_token_id` to `eos_token_id`:50256 for open-end generation.\n"
     ]
    },
    {
     "name": "stdout",
     "output_type": "stream",
     "text": [
      " Local Chatbot Answer:\n",
      "Context: How Artificial Intelligence is Reshaping the Workforce: The Future of Jobs Introduction Artificial Intelligence AI is no longer a distant conceptit is actively transforming industries, businesses, and the global workforce. While some fear AI will replace jobs, others believe it will create new opportunities and enhance human productivity. So, what does the future of work look like in an AIdriven world? The Impact of AI on Jobs AI is automating repetitive tasks, optimizing workflows, and also enhances human productivity and creates new opportunities. The future workforce will not be AI versus humans but AI alongside humans, working together to drive innovation and efficiency. The key to staying relevant in this evolving landscape is embracing AI, upskilling, and leveraging human creativitytraits that no machine can fully replicate. While AI can process data, it lacks emotional intelligence, creativity, and critical thinking. Strengthening these humancentric skills will be crucial. 3. Focus on Adaptability As AI continues to evolve, the workforce must be open to continuous learning and upskilling in emerging technologies. Conclusion AI is not a threat to jobsit is a transformation tool. While it automates routine tasks, it also enhances human productivity and creates new opportunities. The future workforce will not be AI\n",
      "\n",
      "User Query: How Artificial Intelligence is Reshaping the Workforce?\n",
      "Answer: A. It is not. The problem of artificial intelligence is the ability of humans to efficiently perform tasks that are directly related to their own skills, and they are not capable of performing tasks that are directly related to their own skills (i.e.,\n"
     ]
    }
   ],
   "source": [
    "from transformers import pipeline\n",
    "\n",
    "# Load a small local model (distilGPT-2 for efficiency)\n",
    "generator = pipeline(\"text-generation\", model=\"distilgpt2\")\n",
    "\n",
    "def generate_response_local(query):\n",
    "    \"\"\"Generate response using retrieved context & local model\"\"\"\n",
    "    retrieved_texts = retrieve_top_k(query)\n",
    "    context = \" \".join(retrieved_texts)\n",
    "\n",
    "    prompt = f\"Context: {context}\\n\\nUser Query: {query}\\nAnswer:\"\n",
    "    \n",
    "    response = generator(prompt, max_new_tokens=50, num_return_sequences=1)\n",
    "    \n",
    "    return response[0][\"generated_text\"]\n",
    "\n",
    "# Test Local Chatbot\n",
    "query = \"How Artificial Intelligence is Reshaping the Workforce?\"\n",
    "answer = generate_response_local(query)\n",
    "\n",
    "print(f\" Local Chatbot Answer:\\n{answer}\")\n"
   ]
  },
  {
   "cell_type": "code",
   "execution_count": null,
   "id": "a72ec849-8979-41b9-8653-74da036b87ee",
   "metadata": {},
   "outputs": [],
   "source": []
  }
 ],
 "metadata": {
  "kernelspec": {
   "display_name": "Python (rag_env)",
   "language": "python",
   "name": "rag_env"
  },
  "language_info": {
   "codemirror_mode": {
    "name": "ipython",
    "version": 3
   },
   "file_extension": ".py",
   "mimetype": "text/x-python",
   "name": "python",
   "nbconvert_exporter": "python",
   "pygments_lexer": "ipython3",
   "version": "3.9.13"
  }
 },
 "nbformat": 4,
 "nbformat_minor": 5
}
